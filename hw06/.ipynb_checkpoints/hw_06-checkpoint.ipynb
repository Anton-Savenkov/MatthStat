{
 "cells": [
  {
   "cell_type": "markdown",
   "id": "eb37372b",
   "metadata": {},
   "source": [
    "# task01\n",
    "\n",
    "Известно, что генеральная совокупность распределена нормально со средним квадратическим отклонением, равным 16.\\\n",
    "Найти доверительный интервал для оценки математического ожидания с надежностью 0.95, если выборочная средняя M = 80, а объем выборки n = 256."
   ]
  },
  {
   "cell_type": "markdown",
   "id": "0ca7ea54",
   "metadata": {},
   "source": [
    "При известной сигме генеральной совокупности для расчета доверительного интервала пирменяется Z -критерий. \n",
    "Z -критерия для  95 % доверительного интервала = 1,96 - табличное значение\n",
    " "
   ]
  },
  {
   "cell_type": "code",
   "execution_count": 6,
   "id": "c7708f94",
   "metadata": {},
   "outputs": [
    {
     "name": "stdout",
     "output_type": "stream",
     "text": [
      ">>> Доверительный интервал: [78.04 ; 81.96].\n"
     ]
    }
   ],
   "source": [
    "min_border=80-1.96*16/256**0.5\n",
    "max_border=80+1.96*16/256**0.5\n",
    "print(f'>>> Доверительный интервал: [{min_border} ; {max_border}].')"
   ]
  },
  {
   "cell_type": "markdown",
   "id": "5b4b5420",
   "metadata": {},
   "source": [
    "# task02\n",
    "В результате 10 независимых измерений некоторой величины X, выполненных с одинаковой точностью, получены опытные данные: 6.9, 6.1, 6.2, 6.8, 7.5, 6.3, 6.4, 6.9, 6.7, 6.1\n",
    "Предполагая, что результаты измерений подчинены нормальному закону распределения вероятностей, оценить истинное значение величины X при помощи доверительного интервала, покрывающего это значение с доверительной вероятностью 0,95."
   ]
  },
  {
   "cell_type": "code",
   "execution_count": 9,
   "id": "b75fd106",
   "metadata": {},
   "outputs": [
    {
     "name": "stdout",
     "output_type": "stream",
     "text": [
      "Среднее арифметическое для выборки = 6.590\n",
      "Средне квадратичное отклонение по выборке = 0.451\n",
      "Значение t-критерия для 95.0% доверительного интервала = 2.262\n",
      "Доверительный интервал для величины \"X\" составляет: [6.268 ; 6.912]\n"
     ]
    }
   ],
   "source": [
    "import numpy as np\n",
    "import scipy.stats as stats\n",
    "\n",
    "input_arr = [6.9, 6.1, 6.2, 6.8, 7.5, 6.3, 6.4, 6.9, 6.7, 6.1]\n",
    "n = len(input_arr)\n",
    "x = np.mean(input_arr)\n",
    "print(f'Среднее арифметическое для выборки = {x:.3f}')\n",
    "alpha = 0.05\n",
    "sigma = np.std(input_arr, ddof=1)\n",
    "print(f'Средне квадратичное отклонение по выборке = {sigma:.3f}')\n",
    "stats = stats.t.ppf(1 - alpha / 2, n - 1)\n",
    "print(f'Значение t-критерия для {(1 - alpha) * 100}% доверительного интервала = '\n",
    "      f'{stats:.3f}')\n",
    "min_border= x - stats * sigma / np.sqrt(n)\n",
    "max_bordeer= x + stats * sigma / np.sqrt(n)\n",
    "print(f'Доверительный интервал для величины \"X\" составляет: '\n",
    "      f'[{min_border:.3f} ; {max_bordeer:.3f}]')"
   ]
  },
  {
   "cell_type": "markdown",
   "id": "f585285a",
   "metadata": {},
   "source": [
    "# task03\n",
    "Рост дочерей 175, 167, 154, 174, 178, 148, 160, 167, 169, 170\n",
    "Рост матерей  178, 165, 165, 173, 168, 155, 160, 164, 178, 175\n",
    "Используя эти данные построить 95% доверительный интервал для разности среднего роста родителей и детей."
   ]
  },
  {
   "cell_type": "code",
   "execution_count": 12,
   "id": "cb051dc9",
   "metadata": {},
   "outputs": [
    {
     "name": "stdout",
     "output_type": "stream",
     "text": [
      "Доверительный интервал для разности среднего роста родителей и детей: [-6.268, 10.068]\n"
     ]
    }
   ],
   "source": [
    "import scipy.stats as stats\n",
    "\n",
    "mothers_growth_arr = np.array([178, 165, 165, 173, 168, 155, 160, 164,\n",
    "                               178, 175])\n",
    "daughters_growth_arr = np.array([175, 167, 154, 174, 178, 148, 160, 167,\n",
    "                                 169, 170])\n",
    "\n",
    "diff_means = np.mean(mothers_growth_arr) - np.mean(daughters_growth_arr)\n",
    "mean_error = \\\n",
    "    np.sqrt(np.var(mothers_growth_arr, ddof=1) / len(mothers_growth_arr) +\n",
    "            np.var(daughters_growth_arr, ddof=1) / len(daughters_growth_arr))\n",
    "t_crit = \\\n",
    "    stats.t.ppf(0.975, len(mothers_growth_arr) + len(daughters_growth_arr) - 2)\n",
    "min_border = diff_means - t_crit * mean_error\n",
    "max_border = diff_means + t_crit * mean_error\n",
    "\n",
    "print(f'Доверительный интервал для разности среднего роста родителей и детей:'\n",
    "      f' [{min_border:.3f}, {max_border:.3f}]')"
   ]
  },
  {
   "cell_type": "code",
   "execution_count": null,
   "id": "5babc482",
   "metadata": {},
   "outputs": [],
   "source": []
  }
 ],
 "metadata": {
  "kernelspec": {
   "display_name": "Python 3 (ipykernel)",
   "language": "python",
   "name": "python3"
  },
  "language_info": {
   "codemirror_mode": {
    "name": "ipython",
    "version": 3
   },
   "file_extension": ".py",
   "mimetype": "text/x-python",
   "name": "python",
   "nbconvert_exporter": "python",
   "pygments_lexer": "ipython3",
   "version": "3.11.0"
  }
 },
 "nbformat": 4,
 "nbformat_minor": 5
}
