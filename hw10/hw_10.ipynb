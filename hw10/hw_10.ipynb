{
 "cells": [
  {
   "cell_type": "code",
   "execution_count": 1,
   "id": "381c16ea",
   "metadata": {},
   "outputs": [],
   "source": [
    "import scipy.stats as stats\n",
    "import numpy as np"
   ]
  },
  {
   "cell_type": "markdown",
   "id": "2e7743e3",
   "metadata": {},
   "source": [
    "# task\n",
    "Провести дисперсионный анализ для определения того, есть ли различия среднего роста среди взрослых футболистов, хоккеистов и штангистов.\n",
    "\n",
    "Даны значения роста в трех группах случайно выбранных спортсменов:\n",
    " - Футболисты: 173, 175, 180, 178, 177, 185, 183, 182.\n",
    " - Хоккеисты: 177, 179, 180, 188, 177, 172, 171, 184, 180.\n",
    " - Штангисты: 172, 173, 169, 177, 166, 180, 178, 177, 172, 166, 170."
   ]
  },
  {
   "cell_type": "code",
   "execution_count": 4,
   "id": "d7c657cd",
   "metadata": {},
   "outputs": [
    {
     "name": "stdout",
     "output_type": "stream",
     "text": [
      "-- pvalue для каждой выборки больше alpha, данные выборок имеют нормальное распределене\n",
      "-- pvalue больше alpha, дисперсии равны\n",
      "--- Футболисты, хоккеисты и штангисты имеют существенне различия в росте.\n"
     ]
    }
   ],
   "source": [
    "import scipy.stats as stats\n",
    "import numpy as np\n",
    "\n",
    "football_players_growth = np.array([173, 175, 180, 178, 177, 185, 183, 182])\n",
    "hockey_players_growth = np.array([177, 179, 180, 188, 177, 172, 171, 184, 180])\n",
    "weightlifters_growth = np.array([172, 173, 169, 177, 166, 180, 178, 177, 172,\n",
    "                                 166, 170])\n",
    "alpha = 0.05\n",
    "\n",
    "#проверка на нормальность распределения\n",
    "stat_football, p_val_football = stats.shapiro(football_players_growth)\n",
    "# print(f' футболисты --- {stat_football, p_val_football}')\n",
    "stat_hockey, p_val_hockey = stats.shapiro(hockey_players_growth)\n",
    "#print(f' xоккеисты --- {stat_hockey, p_val_hockey}')\n",
    "stat_weightlifters, p_val_weightlifters = stats.shapiro(weightlifters_growth)\n",
    "#print(f' штангисты --- {stat_weightlifters, p_val_weightlifters}')\n",
    "\n",
    "if p_val_football > alpha and p_val_hockey > alpha \\\n",
    "        and p_val_weightlifters > alpha:\n",
    "    print('-- pvalue для каждой выборки больше alpha, данные выборок имеют '\n",
    "          'нормальное распределене')\n",
    "else:\n",
    "    print('-- pvalue одной или нескольких выборок меньше alpha, данные выборок '\n",
    "          'не имеют нормального распределеня')\n",
    "\n",
    "#проверка равенстваа дисперсий\n",
    "\n",
    "stat_check, p_val_check = stats.bartlett(football_players_growth, hockey_players_growth, weightlifters_growth)\n",
    "# print(stat_check, p_val_check)\n",
    "if p_val_check > alpha:\n",
    "    print('-- pvalue больше alpha, дисперсии равны')\n",
    "else:\n",
    "    print('-- pvalue меньше alpha, дисперсии не равны')\n",
    "\n",
    "stat_univariate_analysis, p_val_univariate_analysis = \\\n",
    "    stats.f_oneway(football_players_growth, hockey_players_growth,\n",
    "                   weightlifters_growth)\n",
    "# print(stat_univariate_analysis, p_val_univariate_analysis)\n",
    "if p_val_univariate_analysis > alpha:\n",
    "    print('--- Футболисты, хоккеисты и штангисты не имеют существенных '\n",
    "          'различий в росте.')\n",
    "else:print('--- Футболисты, хоккеисты и штангисты имеют существенне '\n",
    "          'различия в росте.')"
   ]
  },
  {
   "cell_type": "code",
   "execution_count": null,
   "id": "f164b26f",
   "metadata": {},
   "outputs": [],
   "source": []
  }
 ],
 "metadata": {
  "kernelspec": {
   "display_name": "Python 3 (ipykernel)",
   "language": "python",
   "name": "python3"
  },
  "language_info": {
   "codemirror_mode": {
    "name": "ipython",
    "version": 3
   },
   "file_extension": ".py",
   "mimetype": "text/x-python",
   "name": "python",
   "nbconvert_exporter": "python",
   "pygments_lexer": "ipython3",
   "version": "3.11.0"
  }
 },
 "nbformat": 4,
 "nbformat_minor": 5
}
