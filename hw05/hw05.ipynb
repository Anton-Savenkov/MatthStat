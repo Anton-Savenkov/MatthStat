{
 "cells": [
  {
   "cell_type": "code",
   "execution_count": 1,
   "id": "37b6690b",
   "metadata": {},
   "outputs": [],
   "source": [
    "import numpy as np\n",
    "import scipy.stats as stats\n",
    "import math"
   ]
  },
  {
   "cell_type": "markdown",
   "id": "5f280285",
   "metadata": {},
   "source": [
    "# task01\n",
    "   - Когда используется критерий Стьюдента, а когда Z –критерий?\n",
    "\n",
    "    Закон Z-критерия используется для проверки гипотезы о равенстве среднего значения \n",
    "    генеральной совокупности с известным  значением.\n",
    "    Данный критерий используется для проверки гипотезы о нормальности распределения данных в выборке \n",
    "    с известным значением среднего значения.Это позволяет оценить точность среднего значения измерения \n",
    "    в генеральной совокупности, а также понять, насколько данные в выборке представляют собой \n",
    "    нормальное распределение."
   ]
  },
  {
   "cell_type": "markdown",
   "id": "7cf06532",
   "metadata": {},
   "source": [
    "# task02\n",
    "\n",
    "   - Проведите тест гипотезы. \n",
    "   \n",
    "   Утверждается, что шарики для подшипников, изготовленные автоматическим станком,имеют средний диаметр 17 мм.\n",
    "   Используя односторонний критерий с α=0,05, проверить эту гипотезу, если в выборке из n=100 шариков средний диаметр оказался равным 17.5 мм, а дисперсия известна и равна 4 кв. мм.\n"
   ]
  },
  {
   "cell_type": "code",
   "execution_count": 2,
   "id": "9f01dc30",
   "metadata": {},
   "outputs": [
    {
     "name": "stdout",
     "output_type": "stream",
     "text": [
      "Принимаем гипотезу H1\n"
     ]
    }
   ],
   "source": [
    "# H0 ---> M(X) = 17\n",
    "# H1 ---> M(X) > 17\n",
    "\n",
    "#α = 0,05\n",
    "lambda_1 = 0.95\n",
    "\n",
    "sig = math.sqrt(4)\n",
    "d_x = 4\n",
    "m = 17\n",
    "x = 17.5\n",
    "n = 100\n",
    "\n",
    "t_lambda_1 = ((x - m) / sig) * math.sqrt(n)\n",
    "\n",
    "t_critical = 1.645\n",
    "\n",
    "if t_lambda_1 <= t_critical:\n",
    "    print('Принимаем гипотезу H0')\n",
    "else:\n",
    "    print('Принимаем гипотезу H1')"
   ]
  },
  {
   "cell_type": "markdown",
   "id": "964f0e99",
   "metadata": {},
   "source": [
    "# task03\n",
    " - Проведите тест гипотезы. \n",
    "        \n",
    "    Продавец утверждает, что средний вес пачки печенья составляет 200 г. Из партии извлечена выборка из 10 пачек. Вес каждой пачки составляет: 202, 203, 199, 197, 195, 201, 200, 204, 194, 190. Известно, что их веса распределены нормально.\n",
    "    Верно ли утверждение продавца, если учитывать, что доверительная вероятность равна 99%? (Провести двусторонний тест.)"
   ]
  },
  {
   "cell_type": "code",
   "execution_count": 6,
   "id": "421a28ad",
   "metadata": {},
   "outputs": [
    {
     "name": "stdout",
     "output_type": "stream",
     "text": [
      "(198.5, 4.453463071962462)\n"
     ]
    },
    {
     "data": {
      "text/plain": [
       "-1.0651074037450896"
      ]
     },
     "execution_count": 6,
     "metadata": {},
     "output_type": "execute_result"
    }
   ],
   "source": [
    "# H0 ---> M(X) = 200\n",
    "# H1 ---> M(X) != 200\n",
    "\n",
    "weights = np.array([202, 203, 199, 197, 195, 201, 200, 204, 194, 190])\n",
    "n = 10\n",
    "\n",
    "mean = weights.mean()\n",
    "std = weights.std(ddof=1)\n",
    "\n",
    "print(f'({mean}, {std})')\n",
    "\n",
    "# t- наблюдаемое\n",
    "t = (mean-200)/(std/np.sqrt(n))\n",
    "t"
   ]
  },
  {
   "cell_type": "markdown",
   "id": "ffa4d5e5",
   "metadata": {},
   "source": [
    " - по таблице Стьюдента\n",
    "t1 = 3,25; \n",
    "t2 = -3,25\n",
    "\n",
    " - Значение t не попадает в критическую область, подтверждааем гипотезу H0 "
   ]
  },
  {
   "cell_type": "markdown",
   "id": "a0a13fa3",
   "metadata": {},
   "source": [
    "# task04\n",
    "\n",
    "Рост матерей 172, 177, 158, 170, 178,175, 164, 160, 169 Рост взрослых дочерей: 173, 175, 162, 174, 175, 168, 155, 170, 160\n",
    "\n",
    "Задачу решать с помощью функции. Есть ли статистически значимые различия в росте дочерей и матерей?"
   ]
  },
  {
   "cell_type": "code",
   "execution_count": 7,
   "id": "07142eed",
   "metadata": {},
   "outputs": [
    {
     "data": {
      "text/plain": [
       "TtestResult(statistic=0.6648478531431979, pvalue=0.5228168632983574, df=9)"
      ]
     },
     "execution_count": 7,
     "metadata": {},
     "output_type": "execute_result"
    }
   ],
   "source": [
    "mother_arr = [172, 177, 158, 170, 178, 175, 164, 160, 169, 165]\n",
    "daughter_arr = [173, 175, 162, 174, 175, 168, 155, 170, 160, 163]\n",
    "\n",
    "stats.ttest_rel(mother_arr, daughter_arr)"
   ]
  },
  {
   "cell_type": "markdown",
   "id": "b5432bbc",
   "metadata": {},
   "source": [
    "Так как p_value > α (подтверждает нулевую гипотезу)\n",
    "\n",
    "Статистически заничмых различий нет."
   ]
  },
  {
   "cell_type": "code",
   "execution_count": null,
   "id": "0bb26983",
   "metadata": {},
   "outputs": [],
   "source": []
  }
 ],
 "metadata": {
  "kernelspec": {
   "display_name": "Python 3 (ipykernel)",
   "language": "python",
   "name": "python3"
  },
  "language_info": {
   "codemirror_mode": {
    "name": "ipython",
    "version": 3
   },
   "file_extension": ".py",
   "mimetype": "text/x-python",
   "name": "python",
   "nbconvert_exporter": "python",
   "pygments_lexer": "ipython3",
   "version": "3.11.0"
  }
 },
 "nbformat": 4,
 "nbformat_minor": 5
}
