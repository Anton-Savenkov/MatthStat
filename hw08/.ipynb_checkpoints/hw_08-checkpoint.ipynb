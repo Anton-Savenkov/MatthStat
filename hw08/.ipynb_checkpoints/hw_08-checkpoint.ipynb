{
 "cells": [
  {
   "cell_type": "code",
   "execution_count": 2,
   "id": "abe39d0e",
   "metadata": {},
   "outputs": [],
   "source": [
    "import numpy as np\n",
    "import pandas as pd\n",
    "from scipy import stats\n",
    "import matplotlib.pyplot as plt"
   ]
  },
  {
   "cell_type": "markdown",
   "id": "c4a69dfe",
   "metadata": {},
   "source": [
    "# task01\n",
    "Даны значения величины заработной платы заемщиков банка (zp) и значения их поведенческого кредитного скоринга (ks):\n",
    "\n",
    "- zp = [35, 45, 190, 200, 40, 70, 54, 150, 120, 110],\n",
    "- ks = [401, 574, 874, 919, 459, 739, 653, 902, 746, 832].\n",
    "\n",
    "Найдите ковариацию этих двух величин с помощью элементарных действий, а затем с помощью функции cov из numpy\n",
    "Полученные значения должны быть равны.\n",
    "Найдите коэффициент корреляции Пирсона с помощью ковариации и среднеквадратичных отклонений двух признаков, а затем с использованием функций из библиотек numpy и pandas."
   ]
  },
  {
   "cell_type": "code",
   "execution_count": 7,
   "id": "34a34ae0",
   "metadata": {},
   "outputs": [
    {
     "data": {
      "image/png": "[encoded data removed]",
      "text/plain": [
       "<Figure size 640x480 with 1 Axes>"
      ]
     },
     "metadata": {},
     "output_type": "display_data"
    },
    {
     "name": "stdout",
     "output_type": "stream",
     "text": [
      "Судя по графигу видно, что зависимость линейная.\n",
      "Ожидаем, что между данными существует положительная корреляция.\n"
     ]
    }
   ],
   "source": [
    "zp_arr = np.array([35, 45, 190, 200, 40, 70, 54, 150, 120, 110])\n",
    "ks_arr = np.array([401, 574, 874, 919, 459, 739, 653, 902, 746, 832])\n",
    "\n",
    "plt.scatter(zp_arr, ks_arr)\n",
    "plt.xlabel('Величина заработной платы \"zp\"')\n",
    "plt.ylabel('Поведенческий кредитный скоринг \"ks\"', rotation=90)\n",
    "plt.show()\n",
    "print('Судя по графигу видно, что зависимость линейная.'\n",
    "      '\\nОжидаем, что между данными существует положительная корреляция.')"
   ]
  },
  {
   "cell_type": "markdown",
   "id": "5d686fe7",
   "metadata": {},
   "source": [
    "- Вычислим ковариацию двух величин\n",
    "- Находим коэффициент корреляции Пирсона"
   ]
  },
  {
   "cell_type": "code",
   "execution_count": 8,
   "id": "93d02ce3",
   "metadata": {},
   "outputs": [
    {
     "name": "stdout",
     "output_type": "stream",
     "text": [
      "Cov1 =  9157.840\n",
      "Cov2 =  9157.840\n",
      "Коэффициент корреляции Пирсона рассчитанный с помощью ковариации и среднеквадратичных отклонений двух признаков =  0.887\n",
      "Коэффициент корреляции Пирсона рассчитанный с использованием функции \"corrcoef\" из библиотеки numpy =  0.887\n",
      "Коэффициент корреляции Пирсона рассчитанный с использованием функции \"Series\" из библиотеки pandas =  0.887\n"
     ]
    }
   ],
   "source": [
    "zp_ks_cov1 = np.mean(zp_arr * ks_arr) - np.mean(zp_arr) * np.mean(ks_arr)\n",
    "print(f'Cov1 = {zp_ks_cov1: .3f}')\n",
    "zp_ks_cov2 = np.cov(zp_arr, ks_arr, ddof=0)[0, 1]\n",
    "print(f'Cov2 = {zp_ks_cov2: .3f}')\n",
    "\n",
    "zp_ks_corr1 = zp_ks_cov1 / (np.std(zp_arr) * np.std(ks_arr))\n",
    "print(f'Коэффициент корреляции Пирсона рассчитанный с помощью ковариации и '\n",
    "      f'среднеквадратичных отклонений двух признаков = {zp_ks_corr1: .3f}')\n",
    "zp_ks_corr2 = np.corrcoef(zp_arr, ks_arr)[0][1]\n",
    "print(f'Коэффициент корреляции Пирсона рассчитанный с использованием функции '\n",
    "      f'\"corrcoef\" из библиотеки numpy = {zp_ks_corr2: .3f}')\n",
    "zp_ks_corr3 = pd.Series(zp_arr).corr(pd.Series(ks_arr), method='pearson')\n",
    "print(f'Коэффициент корреляции Пирсона рассчитанный с использованием функции '\n",
    "      f'\"Series\" из библиотеки pandas = {zp_ks_corr3: .3f}')"
   ]
  },
  {
   "cell_type": "markdown",
   "id": "ab324945",
   "metadata": {},
   "source": [
    " # task02\n",
    " Измерены значения IQ выборки студентов, обучающихся в местных технических вузах:\n",
    " - 131, 125, 115, 122, 131, 115, 107, 99, 125, 111.\n",
    "Известно, что в генеральной совокупности IQ распределен нормально.\n",
    "\n",
    "Найдите доверительный интервал для математического ожидания с надежностью 0.95."
   ]
  },
  {
   "cell_type": "code",
   "execution_count": 9,
   "id": "b64a1e1e",
   "metadata": {},
   "outputs": [
    {
     "name": "stdout",
     "output_type": "stream",
     "text": [
      "Размер выборки n = 10\n",
      "Среднее квадратическое отклонение (несмещенное) по выборке = 10.546\n",
      "Среднее выборочне =  118.100\n",
      "t = 2.26216 \n",
      "отклонение = 7.54392\n",
      "Доверительный интервал для математического ожидания с надежностью 0.95 составляет: 110.556; 125.644\n"
     ]
    }
   ],
   "source": [
    "alpha = 0.05\n",
    "iq_arr = np.array([131, 125, 115, 122, 131, 115, 107, 99, 125, 111])\n",
    "\n",
    "n = iq_arr.size\n",
    "std = iq_arr.std(ddof=1)\n",
    "mean = iq_arr.mean()\n",
    "print(f'Размер выборки n = {n}\\nСреднее квадратическое отклонение '\n",
    "      f'(несмещенное) по выборке = {std:.3f}\\n'\n",
    "      f'Среднее выборочне = {mean: .3f}')\n",
    "\n",
    "#Cчитаем значения t и отклонение\n",
    "\n",
    "t = stats.t.ppf(1 - alpha / 2, n - 1)\n",
    "d = t * std / (n) ** 0.5\n",
    "print(f't ={t: .5f} \\nотклонение ={d: .5f}')\n",
    "\n",
    "min_iq = mean - d\n",
    "max_iq = mean + d\n",
    "print(f'Доверительный интервал для математического ожидания с надежностью 0.95 '\n",
    "      f'составляет:{min_iq: .3f};{max_iq: .3f}')"
   ]
  },
  {
   "cell_type": "markdown",
   "id": "6395b71e",
   "metadata": {},
   "source": [
    "# task03\n",
    "Известно, что рост футболистов в сборной распределен нормально с дисперсией генеральной совокупности, равной 25 кв.см. Объем выборки равен 27, среднее выборочное составляет 174.2. \n",
    "\n",
    "Найдите доверительный интервал для математического ожидания с надежностью 0.95."
   ]
  },
  {
   "cell_type": "code",
   "execution_count": 10,
   "id": "f5c30829",
   "metadata": {},
   "outputs": [
    {
     "name": "stdout",
     "output_type": "stream",
     "text": [
      "Доверительный интервал для математического ожидания с надежностью 0.95  = [147.296; 201.104]\n"
     ]
    }
   ],
   "source": [
    "var = 25\n",
    "n = 27\n",
    "mean = 174.2\n",
    "std = var ** 0.5\n",
    "alpha = 0.05\n",
    "z = stats.norm.ppf(1 - alpha / 2, n - 1)\n",
    "d = z * std / (n) ** 0.5\n",
    "min = mean - d\n",
    "max = mean + d\n",
    "print(f'Доверительный интервал для математического ожидания с надежностью 0.95 '\n",
    "      f' = [{min:.3f};{max: .3f}]')"
   ]
  }
 ],
 "metadata": {
  "kernelspec": {
   "display_name": "Python 3 (ipykernel)",
   "language": "python",
   "name": "python3"
  },
  "language_info": {
   "codemirror_mode": {
    "name": "ipython",
    "version": 3
   },
   "file_extension": ".py",
   "mimetype": "text/x-python",
   "name": "python",
   "nbconvert_exporter": "python",
   "pygments_lexer": "ipython3",
   "version": "3.11.0"
  }
 },
 "nbformat": 4,
 "nbformat_minor": 5
}
