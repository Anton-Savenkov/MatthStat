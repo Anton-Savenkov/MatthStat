{
 "cells": [
  {
   "cell_type": "code",
   "execution_count": 4,
   "id": "b7d69de6",
   "metadata": {},
   "outputs": [],
   "source": [
    "import numpy as np\n",
    "import scipy.stats as stats\n",
    "import matplotlib.pyplot as plt"
   ]
  },
  {
   "cell_type": "markdown",
   "id": "40151e67",
   "metadata": {},
   "source": [
    "# task01\n",
    "Даны две  независимые выборки. Не соблюдается условие нормальности\n",
    "x1  380,420, 290\n",
    "y1 140,360,200,900\n",
    "Сделайте вывод по результатам, полученным с помощью функции"
   ]
  },
  {
   "cell_type": "code",
   "execution_count": 5,
   "id": "585a401a",
   "metadata": {},
   "outputs": [
    {
     "name": "stdout",
     "output_type": "stream",
     "text": [
      "MannwhitneyuResult(statistic=8.0, pvalue=0.6285714285714286)\n",
      "Нулевая гипотеза подтверждаеется, статистически значимых различий нет.\n"
     ]
    }
   ],
   "source": [
    "alpha = 0.05\n",
    "x_arr= np.array([380, 420, 290])\n",
    "y_arr= np.array([140, 360, 200, 900])\n",
    "d = stats.mannwhitneyu(x_arr, y_arr)\n",
    "stat, p_val = stats.mannwhitneyu(x_arr, y_arr)\n",
    "\n",
    "print(d)\n",
    "\n",
    "if p_val > alpha:\n",
    "    print('Нулевая гипотеза подтверждаеется, '\n",
    "          'статистически значимых различий нет.')\n",
    "else:\n",
    "    print('Верна альтернативнаая гипотеза,'\n",
    "          'статистически значимые различия есть')"
   ]
  },
  {
   "cell_type": "markdown",
   "id": "8db33496",
   "metadata": {},
   "source": [
    "# task02\n",
    "Исследовалось влияние препарата на уровень давления пациентов. \n",
    " Сначала измерялось давление до приема препарата, потом через 10 минут и через 30 минут. \n",
    " Есть ли статистически значимые различия?\n",
    "- 1е измерение до приема препарата: 150, 160, 165, 145, 155\n",
    "- 2е измерение через 10 минут: 140, 155, 150,  130, 135\n",
    "- 3е измерение через 30 минут: 130, 130, 120, 130, 125"
   ]
  },
  {
   "cell_type": "code",
   "execution_count": 8,
   "id": "b6923234",
   "metadata": {},
   "outputs": [
    {
     "name": "stdout",
     "output_type": "stream",
     "text": [
      "FriedmanchisquareResult(statistic=9.578947368421062, pvalue=0.00831683351100441)\n",
      "Верна альтернативнаая гипотеза, статистически значимые различия есть\n"
     ]
    }
   ],
   "source": [
    "alpha = 0.05\n",
    "x_arr_one = np.array ([150, 160, 165, 145, 155])\n",
    "x_arr_two = np.array([140, 155, 150, 130, 135])\n",
    "x_arr_three = np.array([130, 130, 120, 130, 125])\n",
    "d = stats.friedmanchisquare(x_arr_one, x_arr_two, x_arr_three)\n",
    "stat, p_val = stats.friedmanchisquare(x_arr_one, x_arr_two, x_arr_three)\n",
    "\n",
    "print(d)\n",
    "\n",
    "if p_val > alpha:\n",
    "    print('Нулевая гипотеза подтверждаеется, '\n",
    "          'статистически значимых различий нет.')\n",
    "else:\n",
    "    print('Верна альтернативнаая гипотеза, '\n",
    "          'статистически значимые различия есть')"
   ]
  },
  {
   "cell_type": "markdown",
   "id": "17f5110d",
   "metadata": {},
   "source": [
    "# task03\n",
    "Сравните 1 и 2 е измерения, предполагая, что 3го измерения через 30 минут не было.\n",
    "- [x] 1е измерение до приема препарата: 150, 160, 165, 145, 155\n",
    "- [x] 2е измерение через 10 минут: 140, 155, 150,  130, 135\n",
    "- [ ] ~~3е измерение через 30 минут: 130, 130, 120, 130, 125~~"
   ]
  },
  {
   "cell_type": "code",
   "execution_count": 7,
   "id": "4a327a56",
   "metadata": {},
   "outputs": [
    {
     "name": "stdout",
     "output_type": "stream",
     "text": [
      "WilcoxonResult(statistic=0.0, pvalue=0.0625)\n",
      "Нулевая гипотеза подтверждаеется, статистически значимых различий нет.\n"
     ]
    }
   ],
   "source": [
    "alpha = 0.05\n",
    "x_arr_one = np.array ([150, 160, 165, 145, 155])\n",
    "x_arr_two = np.array([140, 155, 150, 130, 135])\n",
    "#x_arr_three = np.array([130, 130, 120, 130, 125])\n",
    "d = stats.wilcoxon(x_arr_one, x_arr_two )\n",
    "stat, p_val = stats.wilcoxon(x_arr_one, x_arr_two )\n",
    "\n",
    "print(d)\n",
    "\n",
    "if p_val > alpha:\n",
    "    print('Нулевая гипотеза подтверждаеется, '\n",
    "          'статистически значимых различий нет.')\n",
    "else:\n",
    "    print('Верна альтернативнаая гипотеза, '\n",
    "          'статистически значимые различия есть')"
   ]
  },
  {
   "cell_type": "markdown",
   "id": "43b3a644",
   "metadata": {},
   "source": [
    "# task04\n",
    "--  есть  ли различия между выборками:\n",
    "\n",
    "Даны 3 группы  учеников плавания.\n",
    "Время на дистанцию 50 м составляют:\n",
    " - В 1 группе: 56, 60, 62, 55, 71, 67, 59, 58, 64, 67\n",
    " - Вторая группа: 57, 58, 69, 48, 72, 70, 68, 71, 50, 53 \n",
    " - Третья группа: 57, 67, 49, 48, 47, 55, 66, 51, 54"
   ]
  },
  {
   "cell_type": "code",
   "execution_count": 9,
   "id": "3ff286a6",
   "metadata": {},
   "outputs": [
    {
     "name": "stdout",
     "output_type": "stream",
     "text": [
      "KruskalResult(statistic=5.465564058257224, pvalue=0.0650380998590494)\n",
      "Нулевая гипотеза подтверждаеется, статистически значимых различий нет.\n"
     ]
    }
   ],
   "source": [
    "alpha = 0.05\n",
    "x_arr_one = np.array ([56, 60, 62, 55, 71, 67, 59, 58, 64, 67])\n",
    "x_arr_two = np.array([57, 58, 69, 48, 72, 70, 68, 71, 50, 53])\n",
    "x_arr_three = np.array([57, 67, 49, 48, 47, 55, 66, 51, 54])\n",
    "d = stats.kruskal(x_arr_one, x_arr_two, x_arr_three)\n",
    "stat, p_val = stats.kruskal(x_arr_one, x_arr_two, x_arr_three)\n",
    "\n",
    "print(d)\n",
    "\n",
    "if p_val > alpha:\n",
    "    print('Нулевая гипотеза подтверждаеется, '\n",
    "          'статистически значимых различий нет.')\n",
    "else:\n",
    "    print('Верна альтернативнаая гипотеза, '\n",
    "          'статистически значимые различия есть')"
   ]
  },
  {
   "cell_type": "markdown",
   "id": "295d293d",
   "metadata": {},
   "source": [
    "# task05\n",
    "Заявляется, что партия изготавливается со средним арифметическим 2,5 см. \n",
    "\n",
    "Проверить данную гипотезу, если известно, что размеры изделий подчинены нормальному закону распределения. \n",
    "\n",
    "Объем выборки 10, уровень статистической значимости 5%\n",
    "- 2.51, 2.35, 2.74, 2.56, 2.40, 2.36, 2.65, 2.7, 2.67, 2.34"
   ]
  },
  {
   "cell_type": "markdown",
   "id": "cd04bdd6",
   "metadata": {},
   "source": [
    "H <sub> 0 </sub> = 2.5 **_нулевая гипотеза_**\n",
    "\n",
    "H <sub> 1 </sub> ≠ 2.5 **_альтеернаативная гипотеза_** \n",
    "\n",
    "- среднее арифметическое размеров изделий в выборке = 2.5280\n",
    "- стандартное отклонение = 0.1573\n",
    "- t статистическое = 0.5631\n",
    "- t критическое = 1.8331\n",
    "1. Если t-статистическое  меньше t-критического, то гипотеза не отвергается.  \n",
    "2. Если t-статистика больше t-критического, то гипотеза отвергается.\n",
    "\n",
    "**Нулевая гипотеза подтверждается, партия изготавливается со средним арифметическим  = 2,5см.**"
   ]
  },
  {
   "cell_type": "code",
   "execution_count": null,
   "id": "45d87b36",
   "metadata": {},
   "outputs": [],
   "source": []
  }
 ],
 "metadata": {
  "kernelspec": {
   "display_name": "Python 3 (ipykernel)",
   "language": "python",
   "name": "python3"
  },
  "language_info": {
   "codemirror_mode": {
    "name": "ipython",
    "version": 3
   },
   "file_extension": ".py",
   "mimetype": "text/x-python",
   "name": "python",
   "nbconvert_exporter": "python",
   "pygments_lexer": "ipython3",
   "version": "3.11.0"
  }
 },
 "nbformat": 4,
 "nbformat_minor": 5
}
